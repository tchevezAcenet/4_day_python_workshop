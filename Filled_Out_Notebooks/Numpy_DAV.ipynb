{
 "cells": [
  {
   "cell_type": "markdown",
   "id": "4a154270-4446-4835-adc9-640e59c3a001",
   "metadata": {},
   "source": [
    "# Numpy\n",
    "\n",
    "NumPy, which stands for Numerical Python, is a powerful library in Python that helps with numerical and scientific computing. It allows you to work with large, multi-dimensional arrays (think of them as grids of numbers) and provides many mathematical functions to perform calculations on these arrays quickly and easily.\n",
    "\n",
    "### Why Use NumPy?\n",
    "- **Speed:** NumPy is much faster than using regular Python lists for numerical calculations. It’s written in C, which helps it run faster. When you use NumPy, you can perform operations on big sets of data quickly.\n",
    "\n",
    "- **Convenience:** With NumPy, you can do calculations on entire arrays without writing long loops. For example, adding two arrays together can be done in just one line of code.\n",
    "\n",
    "- **Useful Functions:** NumPy has many built-in functions for doing complex math. This is really helpful in fields like oceanography, where scientists need to work with large amounts of data and perform a lot of calculations."
   ]
  },
  {
   "cell_type": "markdown",
   "id": "ddb80f8d-5445-4bd9-ad7d-78ea3d826942",
   "metadata": {},
   "source": [
    "## Arrays\n",
    "An **array** is a list of items stored one after another in memory. In NumPy, an array is a collection of values arranged in a grid, where all values are the same type (like all numbers or all text)."
   ]
  },
  {
   "cell_type": "markdown",
   "id": "b13dd818-308f-4143-8003-7639eabc1097",
   "metadata": {},
   "source": [
    "To use NumPy, we first need to import it:"
   ]
  },
  {
   "cell_type": "code",
   "execution_count": 1,
   "id": "2f448804-737f-445f-af04-222045815330",
   "metadata": {},
   "outputs": [],
   "source": [
    "import numpy as np"
   ]
  },
  {
   "cell_type": "markdown",
   "id": "5fff6a8f-04bc-4ba7-8a08-64e27b21fcdf",
   "metadata": {},
   "source": [
    "### Creating a 1D Array\n",
    "You can create a 1D array using the **np.array()** function. Here’s how:"
   ]
  },
  {
   "cell_type": "code",
   "execution_count": 6,
   "id": "53cd488e-fd1c-4a83-9d96-4f21a6ea44b8",
   "metadata": {},
   "outputs": [
    {
     "name": "stdout",
     "output_type": "stream",
     "text": [
      "1D Array: [1 2 3 4 5]\n"
     ]
    }
   ],
   "source": [
    "# Creating a 1D array\n",
    "arr_1d = np.array([1, 2, 3, 4, 5])\n",
    "print(\"1D Array:\", arr_1d)"
   ]
  },
  {
   "cell_type": "markdown",
   "id": "0a70516d-674c-4bb8-81ea-c98a9a822a1f",
   "metadata": {},
   "source": [
    "### Advantages of NumPy Arrays Over Python Lists\n",
    "- **Homogeneous:** All elements in a NumPy array must be of the same type, whereas Python lists can contain mixed types.\n",
    "- **Performance:** NumPy arrays are more memory efficient and faster for numerical computations compared to lists.\n",
    "- **Functionality:** NumPy provides a range of built-in functions that are specifically optimized for working with arrays."
   ]
  },
  {
   "cell_type": "markdown",
   "id": "1d23e56c-3cb5-4e0e-bddb-f63cf9758e27",
   "metadata": {},
   "source": [
    "### Creating a 2D Array\n",
    "To create a 2D array, pass a list of lists to **np.array()**:"
   ]
  },
  {
   "cell_type": "code",
   "execution_count": 7,
   "id": "bd0667d3-90d8-49a3-961e-4d9cab220e55",
   "metadata": {},
   "outputs": [
    {
     "name": "stdout",
     "output_type": "stream",
     "text": [
      "2D Array:\n",
      " [[1 2 3]\n",
      " [4 5 6]]\n"
     ]
    }
   ],
   "source": [
    "# Creating a 2D array\n",
    "arr_2d = np.array([[1, 2, 3], [4, 5, 6]])\n",
    "print(\"2D Array:\\n\", arr_2d)"
   ]
  },
  {
   "cell_type": "markdown",
   "id": "1bac5a4e-3502-44ab-8992-c07b2a0374af",
   "metadata": {},
   "source": [
    "### Creating Arrays with Built-in Functions\n",
    "\n",
    "NumPy provides several built-in functions to create arrays quickly:\n",
    "\n",
    "- **np.zeros(shape)**: Creates an array filled with zeros.\n",
    "- **np.ones(shape)**: Creates an array filled with ones.\n",
    "- **np.arange(start, stop, step)**: Creates an array with a range of values.\n",
    "- **np.linspace(start, stop, num)**: Creates an array of evenly spaced numbers."
   ]
  },
  {
   "cell_type": "code",
   "execution_count": 8,
   "id": "50519dd5-bf9b-4e8d-89e8-f6b1d7adb397",
   "metadata": {},
   "outputs": [
    {
     "name": "stdout",
     "output_type": "stream",
     "text": [
      "Zeros Array:\n",
      " [[0. 0. 0.]\n",
      " [0. 0. 0.]]\n",
      "Ones Array:\n",
      " [[1. 1. 1.]\n",
      " [1. 1. 1.]]\n",
      "Range Array: [0 2 4 6 8]\n",
      "Linspace Array: [0.   0.25 0.5  0.75 1.  ]\n"
     ]
    }
   ],
   "source": [
    "# Using built-in functions\n",
    "zeros_array = np.zeros((2, 3))\n",
    "ones_array = np.ones((2, 3))\n",
    "range_array = np.arange(0, 10, 2)\n",
    "linspace_array = np.linspace(0, 1, 5)\n",
    "\n",
    "print(\"Zeros Array:\\n\", zeros_array)\n",
    "print(\"Ones Array:\\n\", ones_array)\n",
    "print(\"Range Array:\", range_array)\n",
    "print(\"Linspace Array:\", linspace_array)"
   ]
  },
  {
   "cell_type": "markdown",
   "id": "c5d06b96-57d8-487b-b947-2e7b2f2f2a98",
   "metadata": {},
   "source": [
    "In this example:\n",
    "\n",
    "- **np.zeros((2, 3))** creates a 2x3 array filled with zeros.\n",
    "- **np.ones((2, 3))** creates a 2x3 array filled with ones.\n",
    "- **np.arange(0, 10, 2)** generates a 1D array with values from 0 to 10, stepping by 2.\n",
    "- **np.linspace(0, 1, 5)** creates an array of 5 evenly spaced numbers between 0 and 1.\n"
   ]
  },
  {
   "cell_type": "markdown",
   "id": "c425890d-935e-483e-ba80-382c5d3f5e1b",
   "metadata": {},
   "source": [
    "### Array Properties\n",
    "You can check important properties of a NumPy array, such as its shape, size, and data type:"
   ]
  },
  {
   "cell_type": "code",
   "execution_count": 9,
   "id": "b54027cd-ce85-4c89-a2dc-fbe39f11e6f0",
   "metadata": {},
   "outputs": [
    {
     "name": "stdout",
     "output_type": "stream",
     "text": [
      "Shape of 2D Array: (2, 3)\n",
      "Size of 2D Array: 6\n",
      "Data Type of 2D Array: int64\n"
     ]
    }
   ],
   "source": [
    "print(\"Shape of 2D Array:\", arr_2d.shape)\n",
    "print(\"Size of 2D Array:\", arr_2d.size)\n",
    "print(\"Data Type of 2D Array:\", arr_2d.dtype)"
   ]
  },
  {
   "cell_type": "markdown",
   "id": "280fb6b8-622a-4324-904d-91a263fe82c7",
   "metadata": {},
   "source": [
    "**This code retrieves:**\n",
    "\n",
    "- The shape of the 2D array, which tells you the dimensions (rows and columns).\n",
    "- The size of the array, indicating the total number of elements.\n",
    "- The data type of the elements in the array, which shows the kind of data stored (e.g., integers, floats)."
   ]
  },
  {
   "cell_type": "markdown",
   "id": "63b3278c-069d-48d7-8254-a393457838d7",
   "metadata": {},
   "source": [
    "### Basic Arithmetic Operations\n",
    "\n",
    "NumPy allows you to perform element-wise arithmetic operations on arrays:"
   ]
  },
  {
   "cell_type": "code",
   "execution_count": null,
   "id": "01616da6-ee20-4c9d-a625-a920b18fd998",
   "metadata": {},
   "outputs": [],
   "source": [
    "# Element-wise addition\n",
    "arr_a = np.array([1, 2, 3])\n",
    "arr_b = np.array([4, 5, 6])\n",
    "sum_array = arr_a + arr_b\n",
    "print(\"Sum of Arrays:\", sum_array)\n",
    "\n",
    "# Element-wise multiplication\n",
    "product_array = arr_a * arr_b\n",
    "print(\"Product of Arrays:\", product_array)"
   ]
  },
  {
   "cell_type": "markdown",
   "id": "4296c0ef-0b7a-429d-94d7-84eecf732e98",
   "metadata": {},
   "source": [
    "In this example, we create *two 1D arrays*, **arr_a** and **arr_b**, and add them together. \n",
    "\n",
    "Also, we perform element-wise multiplication. Each element of **arr_a** is multiplied by the corresponding element of **arr_b**, resulting in a new array of products."
   ]
  },
  {
   "cell_type": "markdown",
   "id": "7e740696-e6da-43e8-8eda-667698a05de9",
   "metadata": {},
   "source": [
    "### NumPy Universal Functions\n",
    "\n",
    "NumPy provides a variety of universal functions that operate element-wise on arrays. These functions include mathematical operations, trigonometric functions, and statistical calculations. Statistical functions are particularly useful for analyzing data and obtaining insights from numerical arrays.\n",
    "\n",
    "- **Mean:** Calculates the average value of the array elements.\n",
    "- **Median:** Finds the middle value when the elements are sorted.\n",
    "- **Standard Deviation:** Measures the amount of variation or dispersion in the dataset.\n",
    "\n",
    "Here’s how to use these functions:"
   ]
  },
  {
   "cell_type": "code",
   "execution_count": 44,
   "id": "c6ee7998-464e-4d47-a97a-56c4145f43b9",
   "metadata": {},
   "outputs": [
    {
     "name": "stdout",
     "output_type": "stream",
     "text": [
      "Mean: 3.0, Median: 3.0, Standard Deviation: 1.4142135623730951\n"
     ]
    }
   ],
   "source": [
    "data = np.array([1, 2, 3, 4, 5])\n",
    "\n",
    "mean_value = np.mean(data)  # Output: 3.0\n",
    "median_value = np.median(data)  # Output: 3.0\n",
    "std_deviation = np.std(data)  # Output: 1.4142135623730951\n",
    "\n",
    "print(f'Mean: {mean_value}, Median: {median_value},\n",
    "    Standard Deviation: {std_deviation}')"
   ]
  },
  {
   "cell_type": "markdown",
   "id": "345e2aa6-c8f5-4eb2-8fe7-77f3ad0e8b69",
   "metadata": {},
   "source": [
    "We can also find the minimum and maximum values in an array:"
   ]
  },
  {
   "cell_type": "code",
   "execution_count": 11,
   "id": "fc25c3f8-bcd6-4ead-9346-44d0a04d84a3",
   "metadata": {},
   "outputs": [
    {
     "name": "stdout",
     "output_type": "stream",
     "text": [
      "Minimum of data array: 1\n",
      "Maximum of data array: 5\n"
     ]
    }
   ],
   "source": [
    "# Calculate minimum and maximum values\n",
    "min_value = np.min(data)\n",
    "max_value = np.max(data)\n",
    "\n",
    "print(\"Minimum of data array:\", min_value)\n",
    "print(\"Maximum of data array:\", max_value)"
   ]
  },
  {
   "cell_type": "markdown",
   "id": "8c82b6e4-c4b6-48b8-b0a6-4b39f95a5af2",
   "metadata": {},
   "source": [
    "Also, we can compute the correlation coefficient between two datasets:"
   ]
  },
  {
   "cell_type": "code",
   "execution_count": 45,
   "id": "8e362a0b-f02b-4b69-9981-1c2af8e3621f",
   "metadata": {},
   "outputs": [
    {
     "name": "stdout",
     "output_type": "stream",
     "text": [
      "Correlation Coefficient Matrix:\n",
      " [[ 1. -1.]\n",
      " [-1.  1.]]\n"
     ]
    }
   ],
   "source": [
    "# Example arrays for correlation\n",
    "arr_x = np.array([1, 2, 3, 4, 5])\n",
    "arr_y = np.array([5, 4, 3, 2, 1])\n",
    "\n",
    "# Calculate correlation coefficient\n",
    "correlation_matrix = np.corrcoef(arr_x, arr_y)\n",
    "print(\"Correlation Coefficient Matrix:\\n\", correlation_matrix)"
   ]
  },
  {
   "cell_type": "markdown",
   "id": "1c8d8201-cd26-40ac-a7f6-6c1803e48326",
   "metadata": {},
   "source": [
    "The correlation coefficient matrix shows the relationship between **arr_x** and **arr_y**. A value close to -1 indicates a strong negative correlation, while a value close to 1 indicates a strong positive correlation."
   ]
  },
  {
   "cell_type": "markdown",
   "id": "de229522-fcd8-42b3-bbab-1cc3c65e8e70",
   "metadata": {},
   "source": [
    "### Other Operations\n",
    "#### Indexing\n",
    "\n",
    "You can access individual elements of an array using indexing:"
   ]
  },
  {
   "cell_type": "code",
   "execution_count": 49,
   "id": "41975b80-d5db-44d4-b143-83dd452f030b",
   "metadata": {},
   "outputs": [
    {
     "name": "stdout",
     "output_type": "stream",
     "text": [
      "First Element of 1D Array: 1\n",
      "Element at (1, 2) in 2D Array: 60\n"
     ]
    }
   ],
   "source": [
    "arr_1d = np.array([1, 2, 3, 4, 5])\n",
    "arr_2d = np.array([\n",
    "    [10, 20, 30],\n",
    "    [40, 50, 60],\n",
    "    [70, 80, 90]\n",
    "])\n",
    "print(\"First Element of 1D Array:\", arr_1d[0])\n",
    "print(\"Element at (1, 2) in 2D Array:\", arr_2d[1, 2])"
   ]
  },
  {
   "cell_type": "markdown",
   "id": "be904193-30f8-4f99-b6c6-75d25bd9e85e",
   "metadata": {},
   "source": [
    "This code retrieves the first element of the 1D array **arr_1d** and the element located at row 1, column 2 in the 2D array **arr_2d**."
   ]
  },
  {
   "cell_type": "markdown",
   "id": "97318ea5-ee3f-443f-ae52-bbc5df320d96",
   "metadata": {},
   "source": [
    "#### Slicing\n",
    "Slicing allows you to access a subset of an array:"
   ]
  },
  {
   "cell_type": "code",
   "execution_count": 50,
   "id": "5ab65891-dce3-4d38-a578-dca30d7f45f6",
   "metadata": {},
   "outputs": [
    {
     "name": "stdout",
     "output_type": "stream",
     "text": [
      "Sliced Array (from index 1 to 3): [2 3 4]\n"
     ]
    }
   ],
   "source": [
    "# Slicing a 1D array\n",
    "print(\"Sliced Array (from index 1 to 3):\", arr_1d[1:4])"
   ]
  },
  {
   "cell_type": "markdown",
   "id": "65c2e38d-e7a8-4d69-884e-808aa94ea404",
   "metadata": {},
   "source": [
    "This retrieves a slice of the 1D array, including elements from index 1 up to, but not including, index 4."
   ]
  },
  {
   "cell_type": "code",
   "execution_count": 52,
   "id": "74d9e8e7-72c8-4031-a91f-096f9d926bab",
   "metadata": {},
   "outputs": [
    {
     "name": "stdout",
     "output_type": "stream",
     "text": [
      "Sliced 2D Array (first row): [10 20 30]\n",
      "Sliced 2D Array (second column): [20 50 80]\n"
     ]
    }
   ],
   "source": [
    "# Slicing a 2D array\n",
    "print(\"Sliced 2D Array (first row):\", arr_2d[0, :])\n",
    "print(\"Sliced 2D Array (second column):\", arr_2d[:, 1])"
   ]
  },
  {
   "cell_type": "markdown",
   "id": "4003d119-183e-4b4f-9341-3674cc54de0c",
   "metadata": {},
   "source": [
    "Here, we extract the first row of the 2D array and the second column using slicing. The : operator means \"select all elements in this dimension.\""
   ]
  },
  {
   "cell_type": "markdown",
   "id": "14c77440-2d06-46b0-9888-ee71b9413cea",
   "metadata": {},
   "source": [
    "#### Reshaping Arrays\n",
    "You can change the shape of an array without changing its data using the **reshape()** method:"
   ]
  },
  {
   "cell_type": "code",
   "execution_count": 53,
   "id": "eb2e6a16-f86f-4c3a-972a-d4094c68c78e",
   "metadata": {},
   "outputs": [
    {
     "name": "stdout",
     "output_type": "stream",
     "text": [
      "Reshaped Array:\n",
      " [[1]\n",
      " [2]\n",
      " [3]\n",
      " [4]\n",
      " [5]]\n"
     ]
    }
   ],
   "source": [
    "reshaped_array = arr_1d.reshape((5, 1))\n",
    "print(\"Reshaped Array:\\n\", reshaped_array)"
   ]
  },
  {
   "cell_type": "markdown",
   "id": "1db96422-bda6-4000-8d2e-1f192a4799e8",
   "metadata": {},
   "source": [
    "In this code, we reshape the 1D array arr_1d into a 5x1 array. The total number of elements remains the same, but the structure changes."
   ]
  },
  {
   "cell_type": "markdown",
   "id": "655cd1f0-2aeb-48d8-809e-6d697829be41",
   "metadata": {},
   "source": [
    "#### Joining Arrays\n",
    "NumPy allows you to **concatenate (join)** arrays using functions like **np.concatenate()**, **np.vstack()** (for vertical stacking), and **np.hstack()** (for horizontal stacking):"
   ]
  },
  {
   "cell_type": "code",
   "execution_count": 54,
   "id": "00b16d64-2d78-4d93-bc49-9b8655ed9a6c",
   "metadata": {},
   "outputs": [
    {
     "name": "stdout",
     "output_type": "stream",
     "text": [
      "Joined 1D Array: [1 2 3 4 5 6]\n"
     ]
    }
   ],
   "source": [
    "arr_a = np.array([1, 2, 3])\n",
    "arr_b = np.array([4, 5, 6])\n",
    "\n",
    "# Joining 1D arrays\n",
    "joined_array = np.concatenate((arr_a, arr_b))\n",
    "print(\"Joined 1D Array:\", joined_array)"
   ]
  },
  {
   "cell_type": "markdown",
   "id": "99d4dea9-f60f-4902-b1c7-7a73950e4fe9",
   "metadata": {},
   "source": [
    "Here, we concatenate **arr_a** and **arr_b** into a single 1D array containing all their elements."
   ]
  },
  {
   "cell_type": "code",
   "execution_count": 56,
   "id": "c6342aed-1361-402f-8cd2-83640acfb11d",
   "metadata": {},
   "outputs": [
    {
     "name": "stdout",
     "output_type": "stream",
     "text": [
      "Vertically Stacked Array:\n",
      " [[1 2]\n",
      " [3 4]\n",
      " [5 6]\n",
      " [7 8]]\n"
     ]
    }
   ],
   "source": [
    "# Joining 2D arrays\n",
    "arr_2d_1 = np.array([[1, 2], [3, 4]])\n",
    "arr_2d_2 = np.array([[5, 6], [7, 8]])\n",
    "vstacked_array = np.vstack((arr_2d_1, arr_2d_2))\n",
    "print(\"Vertically Stacked Array:\\n\", vstacked_array)"
   ]
  },
  {
   "cell_type": "markdown",
   "id": "a423bd98-f4ff-4fd2-80d0-d0b2ccc4be46",
   "metadata": {},
   "source": [
    "In this example, we create two 2D arrays and stack them vertically, resulting in a new array with four rows."
   ]
  },
  {
   "cell_type": "code",
   "execution_count": 57,
   "id": "6c830e4f-d0da-41a1-a46a-6eaa0099c2cb",
   "metadata": {},
   "outputs": [
    {
     "name": "stdout",
     "output_type": "stream",
     "text": [
      "Horizontally Stacked Array:\n",
      " [[1 2 5 6]\n",
      " [3 4 7 8]]\n"
     ]
    }
   ],
   "source": [
    "hstacked_array = np.hstack((arr_2d_1, arr_2d_2))\n",
    "print(\"Horizontally Stacked Array:\\n\", hstacked_array)"
   ]
  },
  {
   "cell_type": "markdown",
   "id": "be3f23ea-6432-416e-93db-16a8cfd979a1",
   "metadata": {},
   "source": [
    "Similarly, we stack the two 2D arrays horizontally, which combines the columns."
   ]
  },
  {
   "cell_type": "markdown",
   "id": "0ee5585b-a348-4384-8455-384fab28300e",
   "metadata": {},
   "source": [
    "#### Splitting Arrays\n",
    "The **np.split()** function splits an array into multiple sub-arrays along a specified axis. The function takes two main arguments: the array to split and the number of splits you want to make."
   ]
  },
  {
   "cell_type": "code",
   "execution_count": 59,
   "id": "39be5741-595a-48c1-9be5-694b3045d63a",
   "metadata": {},
   "outputs": [
    {
     "name": "stdout",
     "output_type": "stream",
     "text": [
      "Joined Array: [ 1  2  3  4  5  6  7  8  9 10]\n",
      "Split 1D Array: [array([1, 2, 3, 4, 5]), array([ 6,  7,  8,  9, 10])]\n"
     ]
    }
   ],
   "source": [
    "import numpy as np\n",
    "\n",
    "# Create a 1D array\n",
    "joined_array = np.array([1, 2, 3, 4, 5, 6, 7, 8, 9, 10])\n",
    "print(\"Joined Array:\", joined_array)\n",
    "\n",
    "# Split the array into 2 equal parts\n",
    "split_array = np.split(joined_array, 2)\n",
    "print(\"Split 1D Array:\", split_array)"
   ]
  },
  {
   "cell_type": "markdown",
   "id": "e04f7b04-84dd-47bd-a94b-2f49bb3e5789",
   "metadata": {},
   "source": [
    "We create a **1D array**, joined_array, containing ten elements, and the **np.split(joined_array, 2)** function is used to split the array into two equal parts, resulting in a list of sub-arrays. \n",
    "\n",
    "It's important to note that if the number of elements in the original array is not evenly divisible by the number of splits specified, NumPy will raise a *ValueError*."
   ]
  },
  {
   "cell_type": "markdown",
   "id": "17ebd41a-b9d4-495d-a16d-d6739982aa80",
   "metadata": {},
   "source": [
    "## Exercise 1: Analyzing Monthly Sea Surface Temperatures (SST) \n",
    "This exercise will introduce us to fundamental data analysis and visualization techniques using Python’s NumPy and Matplotlib libraries. By working with real-world-inspired data, we’ll learn how to calculate basic statistics, filter data based on conditions, and visualize monthly SST patterns throughout the year.\n",
    "\n",
    "Here's what we'll be doing in this exercise:\n",
    "\n",
    "1. **Load and Explore Data:** We'll start by creating arrays for the monthly SST data and corresponding month names.\n",
    "2. **Calculate Basic Statistics:** Next, we’ll calculate the mean, maximum, and minimum SST values, helping us understand the general temperature trends for the year.\n",
    "3. **Identify Seasonal Patterns:** We’ll determine which month has the warmest and coldest temperatures and find out which months have above-average and below-average temperatures.\n",
    "4. **Data Visualization:** Finally, we’ll create a plot to visualize SST changes throughout the year and highlight the yearly average.\n"
   ]
  },
  {
   "cell_type": "code",
   "execution_count": 24,
   "id": "e00a500b-05cc-49a0-b976-ee751ae4ddbb",
   "metadata": {},
   "outputs": [
    {
     "name": "stdout",
     "output_type": "stream",
     "text": [
      "Mean SST: 12.02°C\n",
      "Max SST: 16.80°C\n",
      "Min SST: 8.30°C\n",
      "Warmest Month: August (SST: 16.8°C)\n",
      "Coldest Month: February (SST: 8.3°C)\n",
      "\n",
      "Warmer-than-average months (Month, °C):\n",
      "June: 14.5°C\n",
      "July: 16.3°C\n",
      "August: 16.8°C\n",
      "September: 15.5°C\n",
      "October: 13.2°C\n",
      "\n",
      "Cooler-than-average months (Month, °C):\n",
      "January: 8.5°C\n",
      "February: 8.3°C\n",
      "March: 9.1°C\n",
      "April: 10.2°C\n",
      "May: 12.0°C\n",
      "November: 10.7°C\n",
      "December: 9.1°C\n"
     ]
    },
    {
     "data": {
      "image/png": "[encoded data removed]",
      "text/plain": [
       "<Figure size 1000x500 with 1 Axes>"
      ]
     },
     "metadata": {},
     "output_type": "display_data"
    }
   ],
   "source": [
    "import numpy as np\n",
    "import matplotlib.pyplot as plt\n",
    "\n",
    "# SST data for one year (12 monthly values in °C)\n",
    "sst_data = np.array([8.5, 8.3, 9.1, 10.2, \n",
    "                     12.0, 14.5, 16.3, \n",
    "                     16.8, 15.5, 13.2,\n",
    "                     10.7, 9.1])\n",
    "months = np.array([\"January\", \"February\",\n",
    "                   \"March\", \"April\",\n",
    "                   \"May\", \"June\", \n",
    "                   \"July\", \"August\", \n",
    "                   \"September\", \"October\", \"November\", \"December\"])\n",
    "\n",
    "## sst_data is a NumPy array of 12 monthly SST values for a typical coastal region, representing temperatures in degrees Celsius.\n",
    "## months is another array holding the names of each month, making it easier to refer to specific times of year.\n",
    "\n",
    "# 1. Basic Statistics\n",
    "mean_sst = np.mean(sst_data)\n",
    "max_sst = np.max(sst_data)\n",
    "min_sst = np.min(sst_data)\n",
    "\n",
    "print(f\"Mean SST: {mean_sst:.2f}°C\")\n",
    "print(f\"Max SST: {max_sst:.2f}°C\")\n",
    "print(f\"Min SST: {min_sst:.2f}°C\")\n",
    "\n",
    "## Mean SST: np.mean(sst_data) calculates the average SST over the year.\n",
    "## Max SST: np.max(sst_data) finds the highest temperature, representing the warmest month.\n",
    "## Min SST: np.min(sst_data) finds the lowest temperature, representing the coldest month.\n",
    "\n",
    "\n",
    "# Identify warmest and coldest months\n",
    "warmest_month = months[np.argmax(sst_data)]\n",
    "coldest_month = months[np.argmin(sst_data)]\n",
    "\n",
    "print(f\"Warmest Month: {warmest_month} (SST: {max_sst}°C)\")\n",
    "print(f\"Coldest Month: {coldest_month} (SST: {min_sst}°C)\")\n",
    "\n",
    "## np.argmax(sst_data) returns the index of the maximum SST value in sst_data. This index is used to select the corresponding month in months.\n",
    "## Similarly, np.argmin(sst_data) returns the index of the minimum SST value, which corresponds to the coldest month.\n",
    "\n",
    "# 2. Identify months above and below the mean\n",
    "warmer_than_avg = sst_data[sst_data > mean_sst]\n",
    "warmer_than_avg_months = months[sst_data > mean_sst]\n",
    "cooler_than_avg = sst_data[sst_data < mean_sst]\n",
    "cooler_than_avg_months = months[sst_data < mean_sst]\n",
    "\n",
    "print(\"\\nWarmer-than-average months (Month, °C):\")\n",
    "for month, temp in zip(warmer_than_avg_months, warmer_than_avg):\n",
    "    print(f\"{month}: {temp}°C\")\n",
    "\n",
    "print(\"\\nCooler-than-average months (Month, °C):\")\n",
    "for month, temp in zip(cooler_than_avg_months, cooler_than_avg):\n",
    "    print(f\"{month}: {temp}°C\")\n",
    "\n",
    "## sst_data > mean_sst creates a Boolean array that is True for values above the mean and False otherwise. \n",
    "## This filter is applied to sst_data and months to get only the warmer-than-average months and their temperatures.\n",
    "## Similarly, sst_data < mean_sst filters for cooler-than-average months and their temperatures.\n",
    "## zip() combines warmer_than_avg_months with warmer_than_avg (and the same for cooler months) so that each warmer \n",
    "## or cooler month is displayed alongside its temperature.\n",
    "\n",
    "\n",
    "# 3. Plotting with Month Names\n",
    "plt.figure(figsize=(10, 5))\n",
    "plt.plot(months, sst_data, marker='o', color='skyblue', label=\"Monthly SST\")\n",
    "plt.axhline(mean_sst, color='orange', linestyle='--', label=f\"Mean SST ({mean_sst:.2f}°C)\")\n",
    "plt.xlabel(\"Month\")\n",
    "plt.ylabel(\"Sea Surface Temperature (°C)\")\n",
    "plt.title(\"Monthly Sea Surface Temperature\")\n",
    "plt.legend()\n",
    "plt.xticks(rotation=45)  # Rotate month labels for readability\n",
    "plt.tight_layout()\n",
    "plt.show()\n",
    "\n",
    "## plt.plot(months, sst_data, marker='o', color='skyblue') plots the SST values for each month with markers.\n",
    "## plt.axhline(mean_sst, color='orange', linestyle='--') adds a horizontal line for the mean SST,\n",
    "## making it easy to see which months are above or below the average.\n",
    "## plt.xticks(rotation=45) rotates the month labels for better readability.\n",
    "## plt.tight_layout() adjusts the plot to fit all elements nicely."
   ]
  },
  {
   "cell_type": "markdown",
   "id": "168bc360-820e-4649-9e9e-6281580a586f",
   "metadata": {},
   "source": [
    "The sea surface temperature (SST) data shows clear seasonal changes in temperature throughout the year. The average SST is 12.02°C, which indicates that the region generally has cool waters. August is the warmest month, reaching a temperature of 16.8°C, while February is the coldest month at just 8.3°C.\n",
    "\n",
    "When we look at the months that are warmer than the average, we find June, July, August, September, and October, which all have temperatures above 12.02°C, with August being the hottest. On the other hand, the cooler months, including January, February, March, April, May, November, and December, all have temperatures below the average. "
   ]
  }
 ],
 "metadata": {
  "kernelspec": {
   "display_name": "Python 3 (ipykernel)",
   "language": "python",
   "name": "python3"
  },
  "language_info": {
   "codemirror_mode": {
    "name": "ipython",
    "version": 3
   },
   "file_extension": ".py",
   "mimetype": "text/x-python",
   "name": "python",
   "nbconvert_exporter": "python",
   "pygments_lexer": "ipython3",
   "version": "3.11.5"
  }
 },
 "nbformat": 4,
 "nbformat_minor": 5
}
